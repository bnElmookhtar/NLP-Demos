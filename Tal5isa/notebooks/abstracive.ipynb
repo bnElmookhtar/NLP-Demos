{
 "cells": [
  {
   "cell_type": "code",
   "execution_count": 1,
   "id": "1e50dedd",
   "metadata": {},
   "outputs": [],
   "source": [
    "#install libraries\n",
    "# !pip install torch transformers sentencepiece"
   ]
  },
  {
   "cell_type": "markdown",
   "id": "726081df",
   "metadata": {},
   "source": [
    "#### 1- Import Libs"
   ]
  },
  {
   "cell_type": "code",
   "execution_count": 2,
   "id": "313f01f0",
   "metadata": {},
   "outputs": [
    {
     "name": "stderr",
     "output_type": "stream",
     "text": [
      "d:\\Data\\DataSciense\\NLP\\projects\\NLP-Demos\\.venv\\Lib\\site-packages\\tqdm\\auto.py:21: TqdmWarning: IProgress not found. Please update jupyter and ipywidgets. See https://ipywidgets.readthedocs.io/en/stable/user_install.html\n",
      "  from .autonotebook import tqdm as notebook_tqdm\n"
     ]
    }
   ],
   "source": [
    "from transformers import T5ForConditionalGeneration , T5Tokenizer "
   ]
  },
  {
   "cell_type": "code",
   "execution_count": 3,
   "id": "a47799ac",
   "metadata": {},
   "outputs": [],
   "source": [
    "text = \"\"\"\n",
    "Artificial Intelligence is the simulation of human intelligence in machines that are programmed to think and learn. \n",
    "AI is being used across different industries including finance, healthcare, and transportation. \n",
    "AI technologies include machine learning, natural language processing, and robotics. \n",
    "As AI continues to advance, it is changing the way we live and work. \n",
    "There are also concerns about job displacement and ethical implications.\n",
    "\"\"\""
   ]
  },
  {
   "cell_type": "code",
   "execution_count": null,
   "id": "0ee44815",
   "metadata": {},
   "outputs": [],
   "source": []
  },
  {
   "cell_type": "code",
   "execution_count": null,
   "id": "867fb4dc",
   "metadata": {},
   "outputs": [],
   "source": [
    "def t5_summarizer(text):\n",
    "    # intialize tokenizer and model\n",
    "    tokenizer = T5Tokenizer.from_pretrained('google/flan-t5-small')\n",
    "    model = T5ForConditionalGeneration.from_pretrained('google/flan-t5-small')\n",
    "\n",
    "    #text to tokens \n",
    "    tokens = tokenizer('summarize'+text,padding='longest',truncation = True,return_tensors='pt')\n",
    "    summary = model.generate(\n",
    "    **tokens,\n",
    "    max_length=80,\n",
    "    min_length=40,\n",
    "  \n",
    "    )  \n",
    "    return tokenizer.decode(summary[0])"
   ]
  },
  {
   "cell_type": "code",
   "execution_count": 19,
   "id": "3c703185",
   "metadata": {},
   "outputs": [
    {
     "data": {
      "text/plain": [
       "'<pad> Artificial intelligence is the simulation of human intelligence in machines that are programmed to think and learn. AI technologies include machine learning, natural language processing, and robotics. As AI continues to advance, it is changing the way we live and work.</s>'"
      ]
     },
     "execution_count": 19,
     "metadata": {},
     "output_type": "execute_result"
    }
   ],
   "source": [
    "t5_summarizer(text)"
   ]
  },
  {
   "cell_type": "code",
   "execution_count": 5,
   "id": "1c0dcab2",
   "metadata": {},
   "outputs": [],
   "source": [
    "# def pegasus_summarizer(text):\n",
    "#     # intialize tokenizer and model\n",
    "#     tokenizer = PegasusTokenizer.from_pretrained('google/pegasus-xsum')\n",
    "#     model = PegasusForConditionalGeneration.from_pretrained('google/pegasus-xsum')\n",
    "\n",
    "#     #text to tokens \n",
    "#     tokens = tokenizer('summarize'+text,padding='longest',truncation = True,return_tensors='pt')\n",
    "#     summary = model.generate(**tokens) ##** for unpacking and copy dectionary content \n",
    "#     return tokenizer.decode(summary[0])"
   ]
  },
  {
   "cell_type": "code",
   "execution_count": 6,
   "id": "2e454cab",
   "metadata": {},
   "outputs": [],
   "source": [
    "#pegasus_summarizer(text)"
   ]
  },
  {
   "cell_type": "code",
   "execution_count": null,
   "id": "4bb01630",
   "metadata": {},
   "outputs": [],
   "source": []
  },
  {
   "cell_type": "code",
   "execution_count": null,
   "id": "bcff3da2",
   "metadata": {},
   "outputs": [],
   "source": []
  }
 ],
 "metadata": {
  "kernelspec": {
   "display_name": ".venv",
   "language": "python",
   "name": "python3"
  },
  "language_info": {
   "codemirror_mode": {
    "name": "ipython",
    "version": 3
   },
   "file_extension": ".py",
   "mimetype": "text/x-python",
   "name": "python",
   "nbconvert_exporter": "python",
   "pygments_lexer": "ipython3",
   "version": "3.12.2"
  }
 },
 "nbformat": 4,
 "nbformat_minor": 5
}
