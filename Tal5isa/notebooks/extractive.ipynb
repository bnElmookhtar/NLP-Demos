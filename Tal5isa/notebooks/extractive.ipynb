{
 "cells": [
  {
   "cell_type": "markdown",
   "id": "726081df",
   "metadata": {},
   "source": [
    "#### 1- Import Libs"
   ]
  },
  {
   "cell_type": "code",
   "execution_count": 4,
   "id": "313f01f0",
   "metadata": {},
   "outputs": [],
   "source": [
    "import nltk \n",
    "from sklearn.feature_extraction.text import TfidfVectorizer\n",
    "import numpy as np\n",
    "from nltk.tokenize import sent_tokenize\n",
    "from heapq import nlargest"
   ]
  },
  {
   "cell_type": "code",
   "execution_count": 5,
   "id": "0ee44815",
   "metadata": {},
   "outputs": [
    {
     "name": "stderr",
     "output_type": "stream",
     "text": [
      "[nltk_data] Downloading package punkt to\n",
      "[nltk_data]     C:\\Users\\KMR\\AppData\\Roaming\\nltk_data...\n",
      "[nltk_data]   Package punkt is already up-to-date!\n"
     ]
    },
    {
     "data": {
      "text/plain": [
       "True"
      ]
     },
     "execution_count": 5,
     "metadata": {},
     "output_type": "execute_result"
    }
   ],
   "source": [
    "nltk.download('punkt')"
   ]
  },
  {
   "cell_type": "markdown",
   "id": "ebbd1095",
   "metadata": {},
   "source": [
    "#### 2- TFIDF algorithm"
   ]
  },
  {
   "cell_type": "code",
   "execution_count": 33,
   "id": "3af2c3d0",
   "metadata": {},
   "outputs": [],
   "source": [
    "vectorizer = TfidfVectorizer()\n",
    "def tfidf_summarizer(text , number_sentences = 3):\n",
    "    sentences = sent_tokenize(text)\n",
    "    vectorized_sentences = vectorizer.fit_transform(sentences)\n",
    "\n",
    "    sentences_score = vectorized_sentences.sum(axis = 1)\n",
    "    top_sentences_rank = nlargest(number_sentences,range(len(sentences_score)),key = lambda i: sentences_score[i])\n",
    "    summary = [sentences[i] for i in sorted(top_sentences_rank)]\n",
    "    return ' '.join(summary)"
   ]
  },
  {
   "cell_type": "code",
   "execution_count": 34,
   "id": "30a467c3",
   "metadata": {},
   "outputs": [],
   "source": [
    "text = \"\"\"\n",
    "Artificial Intelligence is the simulation of human intelligence in machines that are programmed to think and learn. \n",
    "AI is being used across different industries including finance, healthcare, and transportation. \n",
    "AI technologies include machine learning, natural language processing, and robotics. \n",
    "As AI continues to advance, it is changing the way we live and work. \n",
    "There are also concerns about job displacement and ethical implications.\n",
    "\"\"\""
   ]
  },
  {
   "cell_type": "code",
   "execution_count": 35,
   "id": "c7e1cb7a",
   "metadata": {},
   "outputs": [
    {
     "data": {
      "text/plain": [
       "'\\nArtificial Intelligence is the simulation of human intelligence in machines that are programmed to think and learn. AI is being used across different industries including finance, healthcare, and transportation. As AI continues to advance, it is changing the way we live and work.'"
      ]
     },
     "execution_count": 35,
     "metadata": {},
     "output_type": "execute_result"
    }
   ],
   "source": [
    "tfidf_summarizer(text)"
   ]
  },
  {
   "cell_type": "code",
   "execution_count": 37,
   "id": "f1b41b1d",
   "metadata": {},
   "outputs": [],
   "source": [
    "import pickle\n",
    "\n",
    "with open('tfidf_vectorizer.pkl', 'wb') as f:\n",
    "    pickle.dump(vectorizer,f)"
   ]
  },
  {
   "cell_type": "code",
   "execution_count": null,
   "id": "c85b3545",
   "metadata": {},
   "outputs": [],
   "source": []
  }
 ],
 "metadata": {
  "kernelspec": {
   "display_name": ".venv",
   "language": "python",
   "name": "python3"
  },
  "language_info": {
   "codemirror_mode": {
    "name": "ipython",
    "version": 3
   },
   "file_extension": ".py",
   "mimetype": "text/x-python",
   "name": "python",
   "nbconvert_exporter": "python",
   "pygments_lexer": "ipython3",
   "version": "3.12.2"
  }
 },
 "nbformat": 4,
 "nbformat_minor": 5
}
