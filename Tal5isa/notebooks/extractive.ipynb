{
 "cells": [
  {
   "cell_type": "markdown",
   "id": "726081df",
   "metadata": {},
   "source": [
    "#### 1- Import Libs"
   ]
  },
  {
   "cell_type": "code",
   "execution_count": 9,
   "id": "313f01f0",
   "metadata": {},
   "outputs": [],
   "source": [
    "import nltk \n",
    "from sklearn.feature_extraction.text import TfidfVectorizer\n",
    "import numpy as np\n",
    "from nltk.tokenize import sent_tokenize\n",
    "from heapq import nlargest"
   ]
  },
  {
   "cell_type": "code",
   "execution_count": 10,
   "id": "0ee44815",
   "metadata": {},
   "outputs": [
    {
     "name": "stderr",
     "output_type": "stream",
     "text": [
      "[nltk_data] Downloading package punkt to\n",
      "[nltk_data]     C:\\Users\\KMR\\AppData\\Roaming\\nltk_data...\n",
      "[nltk_data]   Package punkt is already up-to-date!\n"
     ]
    },
    {
     "data": {
      "text/plain": [
       "True"
      ]
     },
     "execution_count": 10,
     "metadata": {},
     "output_type": "execute_result"
    }
   ],
   "source": [
    "nltk.download('punkt')"
   ]
  },
  {
   "cell_type": "markdown",
   "id": "ebbd1095",
   "metadata": {},
   "source": [
    "#### 2- TFIDF algorithm"
   ]
  },
  {
   "cell_type": "code",
   "execution_count": 11,
   "id": "3af2c3d0",
   "metadata": {},
   "outputs": [],
   "source": [
    "vectorizer = TfidfVectorizer()\n",
    "def tfidf_summarizer(text , number_sentences = 3):\n",
    "    sentences = sent_tokenize(text)\n",
    "    vectorized_sentences = vectorizer.fit_transform(sentences)\n",
    "\n",
    "    sentences_score = vectorized_sentences.sum(axis = 1)\n",
    "    top_sentences_rank = nlargest(number_sentences,range(len(sentences_score)),key = lambda i: sentences_score[i])\n",
    "    summary = [sentences[i] for i in sorted(top_sentences_rank)]\n",
    "    return ' '.join(summary)"
   ]
  },
  {
   "cell_type": "code",
   "execution_count": null,
   "id": "30a467c3",
   "metadata": {},
   "outputs": [],
   "source": [
    "text = \"\"\"\n",
    "Artificial Intelligence is the simulation of human intelligence in machines that are programmed to think and learn. \n",
    "AI is being used across different industries including finance, healthcare, and transportation. \n",
    "AI technologies include machine learning, natural language processing, and robotics. \n",
    "As AI continues to advance, it is changing the way we live and work. \n",
    "There are also concerns about job displacement and ethical implications.\n",
    "\"\"\""
   ]
  },
  {
   "cell_type": "code",
   "execution_count": 13,
   "id": "c7e1cb7a",
   "metadata": {},
   "outputs": [
    {
     "data": {
      "text/plain": [
       "'\\nArtificial Intelligence is the simulation of human intelligence in machines that are programmed to think and learn. AI is being used across different industries including finance, healthcare, and transportation. As AI continues to advance, it is changing the way we live and work.'"
      ]
     },
     "execution_count": 13,
     "metadata": {},
     "output_type": "execute_result"
    }
   ],
   "source": [
    "tfidf_summarizer(text)"
   ]
  },
  {
   "cell_type": "code",
   "execution_count": 14,
   "id": "f1b41b1d",
   "metadata": {},
   "outputs": [],
   "source": [
    "import pickle\n",
    "\n",
    "with open('tfidf_vectorizer.pkl', 'wb') as f:\n",
    "    pickle.dump(vectorizer,f)"
   ]
  },
  {
   "cell_type": "markdown",
   "id": "efe19ce1",
   "metadata": {},
   "source": [
    "#### 3- Graph summarizer"
   ]
  },
  {
   "cell_type": "code",
   "execution_count": 1,
   "id": "c85b3545",
   "metadata": {},
   "outputs": [
    {
     "name": "stdout",
     "output_type": "stream",
     "text": [
      "Collecting networkx\n",
      "  Using cached networkx-3.5-py3-none-any.whl.metadata (6.3 kB)\n",
      "Using cached networkx-3.5-py3-none-any.whl (2.0 MB)\n",
      "Installing collected packages: networkx\n",
      "Successfully installed networkx-3.5\n",
      "Note: you may need to restart the kernel to use updated packages.\n"
     ]
    }
   ],
   "source": [
    "pip install networkx"
   ]
  },
  {
   "cell_type": "code",
   "execution_count": 6,
   "id": "fc90e80b",
   "metadata": {},
   "outputs": [],
   "source": [
    "import numpy as np\n",
    "import networkx as nx\n",
    "from sklearn.feature_extraction.text import TfidfVectorizer\n",
    "from sklearn.metrics.pairwise import cosine_similarity\n",
    "from nltk.tokenize import sent_tokenize"
   ]
  },
  {
   "cell_type": "code",
   "execution_count": 7,
   "id": "199bab95",
   "metadata": {},
   "outputs": [],
   "source": [
    "vectorizer = TfidfVectorizer()\n",
    "def textrang_summarizer(text,number_of_sentences):\n",
    "    sentences = sent_tokenize(text)\n",
    "    vectorized_sentences = vectorizer.fit_transform(sentences)\n",
    "    sim_matrix = cosine_similarity(vectorized_sentences)\n",
    "\n",
    "\n",
    "    nx_graph = nx.from_numpy_array(sim_matrix)\n",
    "    scores = nx.pagerank(nx_graph)\n",
    "\n",
    "    ranked_sentences = sorted(((scores[i],sent) for i,sent in enumerate(sentences)),reverse=True)\n",
    "\n",
    "    summary_sentences = [sent for _, sent in ranked_sentences[:number_of_sentences]]\n",
    "    return ' '.join(summary_sentences)\n",
    "\n"
   ]
  },
  {
   "cell_type": "code",
   "execution_count": 8,
   "id": "ba17407c",
   "metadata": {},
   "outputs": [
    {
     "data": {
      "text/plain": [
       "'As AI continues to advance, it is changing the way we live and work. \\nArtificial Intelligence is the simulation of human intelligence in machines that are programmed to think and learn. AI is being used across different industries including finance, healthcare, and transportation.'"
      ]
     },
     "execution_count": 8,
     "metadata": {},
     "output_type": "execute_result"
    }
   ],
   "source": [
    "textrang_summarizer(text,3)"
   ]
  },
  {
   "cell_type": "code",
   "execution_count": null,
   "id": "8ec684a6",
   "metadata": {},
   "outputs": [],
   "source": []
  }
 ],
 "metadata": {
  "kernelspec": {
   "display_name": ".venv",
   "language": "python",
   "name": "python3"
  },
  "language_info": {
   "codemirror_mode": {
    "name": "ipython",
    "version": 3
   },
   "file_extension": ".py",
   "mimetype": "text/x-python",
   "name": "python",
   "nbconvert_exporter": "python",
   "pygments_lexer": "ipython3",
   "version": "3.12.2"
  }
 },
 "nbformat": 4,
 "nbformat_minor": 5
}
